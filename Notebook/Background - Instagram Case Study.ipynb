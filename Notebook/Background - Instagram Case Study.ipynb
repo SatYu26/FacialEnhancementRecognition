{
 "cells": [
  {
   "cell_type": "markdown",
   "metadata": {},
   "source": [
    "# Background - Instagram Case Study"
   ]
  },
  {
   "cell_type": "markdown",
   "metadata": {},
   "source": [
    "We are interested in exploring how the images people consume the most are categorized. This will help us inform what kind of faces should be included in our dataset, since we are building it from scratch and it may be difficult to access/integrate numerous sources. Using Instagram as a case study, we can also asses the magnitude of the data that would be involved in deploying this model in the real world. In order to do this we will use the very simple \"Most Followed on Instagram\" dataset from ICONOSQUARE."
   ]
  },
  {
   "cell_type": "markdown",
   "metadata": {},
   "source": [
    "## Data Dictionary\n",
    " Rank  | Followers | Engagement Rate  | Posts on # | Media Posted\n",
    "  -------------  | -------------| -------------| -------------| -------------\n",
    "  Most to least followers ranking for the top 100 accounts.| Number of followers.| Average engagement rate of all media. Engagement rate is based on the likes and comments received divided by the number of followers at the time of the post.| Posts on the specific hastag. | Total amount of media posted by the user.\n",
    "  \n",
    "  \n",
    "  "
   ]
  },
  {
   "cell_type": "code",
   "execution_count": 1,
   "metadata": {},
   "outputs": [],
   "source": [
    "#Imports\n",
    "import pandas as pd\n",
    "import seaborn as sns\n",
    "import matplotlib.pyplot as plt\n",
    "import missingno as msng"
   ]
  },
  {
   "cell_type": "markdown",
   "metadata": {},
   "source": [
    "## Data Cleaning"
   ]
  },
  {
   "cell_type": "code",
   "execution_count": 2,
   "metadata": {},
   "outputs": [],
   "source": [
    "df=pd.read_csv('./Instagram_data/most_followed_ig.csv',  encoding='latin-1')"
   ]
  },
  {
   "cell_type": "code",
   "execution_count": 3,
   "metadata": {},
   "outputs": [
    {
     "data": {
      "text/html": [
       "<div>\n",
       "<style scoped>\n",
       "    .dataframe tbody tr th:only-of-type {\n",
       "        vertical-align: middle;\n",
       "    }\n",
       "\n",
       "    .dataframe tbody tr th {\n",
       "        vertical-align: top;\n",
       "    }\n",
       "\n",
       "    .dataframe thead th {\n",
       "        text-align: right;\n",
       "    }\n",
       "</style>\n",
       "<table border=\"1\" class=\"dataframe\">\n",
       "  <thead>\n",
       "    <tr style=\"text-align: right;\">\n",
       "      <th></th>\n",
       "      <th>RANK</th>\n",
       "      <th>BRAND</th>\n",
       "      <th>CATEGORIES 1</th>\n",
       "      <th>CATEGORIES 2</th>\n",
       "      <th>FOLLOWERS</th>\n",
       "      <th>ER</th>\n",
       "      <th>iPOSTS ON HASHTAG</th>\n",
       "      <th>MEDIA POSTED</th>\n",
       "    </tr>\n",
       "  </thead>\n",
       "  <tbody>\n",
       "    <tr>\n",
       "      <td>0</td>\n",
       "      <td>1</td>\n",
       "      <td>Selena Gomez</td>\n",
       "      <td>celebrities</td>\n",
       "      <td>musicians</td>\n",
       "      <td>105.4Mæ(=)</td>\n",
       "      <td>2.62%æ(1342)</td>\n",
       "      <td>14.5Mæ(48)</td>\n",
       "      <td>1.2kæ(2135)</td>\n",
       "    </tr>\n",
       "    <tr>\n",
       "      <td>1</td>\n",
       "      <td>2</td>\n",
       "      <td>Taylor Swift</td>\n",
       "      <td>celebrities</td>\n",
       "      <td>musicians</td>\n",
       "      <td>95.2Mæ(=)</td>\n",
       "      <td>1.96%æ(2040)</td>\n",
       "      <td>10.5Mæ(66)</td>\n",
       "      <td>958æ(2669)</td>\n",
       "    </tr>\n",
       "    <tr>\n",
       "      <td>2</td>\n",
       "      <td>3</td>\n",
       "      <td>Ariana Grande</td>\n",
       "      <td>celebrities</td>\n",
       "      <td>musicians</td>\n",
       "      <td>92.3Mæ(=)</td>\n",
       "      <td>1.43%æ(2759)</td>\n",
       "      <td>16.9Mæ(41)</td>\n",
       "      <td>2.8kæ(824)</td>\n",
       "    </tr>\n",
       "    <tr>\n",
       "      <td>3</td>\n",
       "      <td>4</td>\n",
       "      <td>Beyonce</td>\n",
       "      <td>celebrities</td>\n",
       "      <td>musicians</td>\n",
       "      <td>90.6Mæ(=)</td>\n",
       "      <td>2.53%æ(1427)</td>\n",
       "      <td>9.2Mæ(70)</td>\n",
       "      <td>1.4kæ(1897)</td>\n",
       "    </tr>\n",
       "    <tr>\n",
       "      <td>4</td>\n",
       "      <td>5</td>\n",
       "      <td>Kim Kardashian West</td>\n",
       "      <td>celebrities</td>\n",
       "      <td>tv</td>\n",
       "      <td>89.3Mæ(=)</td>\n",
       "      <td>1.39%æ(2812)</td>\n",
       "      <td>5.1Mæ(130)</td>\n",
       "      <td>3.6kæ(550)</td>\n",
       "    </tr>\n",
       "  </tbody>\n",
       "</table>\n",
       "</div>"
      ],
      "text/plain": [
       "   RANK                BRAND CATEGORIES 1 CATEGORIES 2   FOLLOWERS  \\\n",
       "0     1         Selena Gomez  celebrities    musicians  105.4Mæ(=)   \n",
       "1     2         Taylor Swift  celebrities    musicians   95.2Mæ(=)   \n",
       "2     3        Ariana Grande  celebrities    musicians   92.3Mæ(=)   \n",
       "3     4              Beyonce  celebrities    musicians   90.6Mæ(=)   \n",
       "4     5  Kim Kardashian West  celebrities           tv   89.3Mæ(=)   \n",
       "\n",
       "             ER iPOSTS ON HASHTAG MEDIA POSTED  \n",
       "0  2.62%æ(1342)        14.5Mæ(48)  1.2kæ(2135)  \n",
       "1  1.96%æ(2040)        10.5Mæ(66)   958æ(2669)  \n",
       "2  1.43%æ(2759)        16.9Mæ(41)   2.8kæ(824)  \n",
       "3  2.53%æ(1427)         9.2Mæ(70)  1.4kæ(1897)  \n",
       "4  1.39%æ(2812)        5.1Mæ(130)   3.6kæ(550)  "
      ]
     },
     "execution_count": 3,
     "metadata": {},
     "output_type": "execute_result"
    }
   ],
   "source": [
    "df.head()"
   ]
  },
  {
   "cell_type": "code",
   "execution_count": 4,
   "metadata": {},
   "outputs": [],
   "source": [
    "#Renaming columns\n",
    "df.columns=['rank','brand','cat_1','cat_2','followers','er','posts_on_#','media_posted']"
   ]
  },
  {
   "cell_type": "code",
   "execution_count": 5,
   "metadata": {},
   "outputs": [],
   "source": [
    "#Fixing numeric data entries\n",
    "\n",
    "#followers\n",
    "df['followers']=[float(df['followers'][i].replace('Mæ(=)','').replace('Mæ(-1)','').replace('Mæ(+1)','')) for i,x in enumerate(df['followers'])]\n",
    "\n",
    "#er\n",
    "df['er']=[float(df['er'][i][0:4]) for i,x in enumerate(df['er'])]\n",
    "\n",
    "#posts_on_#\n",
    "df['posts_on_#']=[df['posts_on_#'][i].split('M')[0] for i,x in enumerate(df['posts_on_#'])]\n",
    "df['posts_on_#']=[float(df['posts_on_#'][i].split('k')[0]) for i,x in enumerate(df['posts_on_#'])]\n",
    "\n",
    "#media_posted\n",
    "df['media_posted']=[df['media_posted'][i].split('k')[0] for i,x in enumerate(df['media_posted'])]\n",
    "df['media_posted']=[float(df['media_posted'][i].split('æ')[0]) for i,x in enumerate(df['media_posted'])]"
   ]
  },
  {
   "cell_type": "code",
   "execution_count": 6,
   "metadata": {},
   "outputs": [
    {
     "data": {
      "text/html": [
       "<div>\n",
       "<style scoped>\n",
       "    .dataframe tbody tr th:only-of-type {\n",
       "        vertical-align: middle;\n",
       "    }\n",
       "\n",
       "    .dataframe tbody tr th {\n",
       "        vertical-align: top;\n",
       "    }\n",
       "\n",
       "    .dataframe thead th {\n",
       "        text-align: right;\n",
       "    }\n",
       "</style>\n",
       "<table border=\"1\" class=\"dataframe\">\n",
       "  <thead>\n",
       "    <tr style=\"text-align: right;\">\n",
       "      <th></th>\n",
       "      <th>rank</th>\n",
       "      <th>brand</th>\n",
       "      <th>cat_1</th>\n",
       "      <th>cat_2</th>\n",
       "      <th>followers</th>\n",
       "      <th>er</th>\n",
       "      <th>posts_on_#</th>\n",
       "      <th>media_posted</th>\n",
       "    </tr>\n",
       "  </thead>\n",
       "  <tbody>\n",
       "    <tr>\n",
       "      <td>0</td>\n",
       "      <td>1</td>\n",
       "      <td>Selena Gomez</td>\n",
       "      <td>celebrities</td>\n",
       "      <td>musicians</td>\n",
       "      <td>105.4</td>\n",
       "      <td>2.62</td>\n",
       "      <td>14.5</td>\n",
       "      <td>1.2</td>\n",
       "    </tr>\n",
       "    <tr>\n",
       "      <td>1</td>\n",
       "      <td>2</td>\n",
       "      <td>Taylor Swift</td>\n",
       "      <td>celebrities</td>\n",
       "      <td>musicians</td>\n",
       "      <td>95.2</td>\n",
       "      <td>1.96</td>\n",
       "      <td>10.5</td>\n",
       "      <td>958.0</td>\n",
       "    </tr>\n",
       "    <tr>\n",
       "      <td>2</td>\n",
       "      <td>3</td>\n",
       "      <td>Ariana Grande</td>\n",
       "      <td>celebrities</td>\n",
       "      <td>musicians</td>\n",
       "      <td>92.3</td>\n",
       "      <td>1.43</td>\n",
       "      <td>16.9</td>\n",
       "      <td>2.8</td>\n",
       "    </tr>\n",
       "    <tr>\n",
       "      <td>3</td>\n",
       "      <td>4</td>\n",
       "      <td>Beyonce</td>\n",
       "      <td>celebrities</td>\n",
       "      <td>musicians</td>\n",
       "      <td>90.6</td>\n",
       "      <td>2.53</td>\n",
       "      <td>9.2</td>\n",
       "      <td>1.4</td>\n",
       "    </tr>\n",
       "    <tr>\n",
       "      <td>4</td>\n",
       "      <td>5</td>\n",
       "      <td>Kim Kardashian West</td>\n",
       "      <td>celebrities</td>\n",
       "      <td>tv</td>\n",
       "      <td>89.3</td>\n",
       "      <td>1.39</td>\n",
       "      <td>5.1</td>\n",
       "      <td>3.6</td>\n",
       "    </tr>\n",
       "  </tbody>\n",
       "</table>\n",
       "</div>"
      ],
      "text/plain": [
       "   rank                brand        cat_1      cat_2  followers    er  \\\n",
       "0     1         Selena Gomez  celebrities  musicians      105.4  2.62   \n",
       "1     2         Taylor Swift  celebrities  musicians       95.2  1.96   \n",
       "2     3        Ariana Grande  celebrities  musicians       92.3  1.43   \n",
       "3     4              Beyonce  celebrities  musicians       90.6  2.53   \n",
       "4     5  Kim Kardashian West  celebrities         tv       89.3  1.39   \n",
       "\n",
       "   posts_on_#  media_posted  \n",
       "0        14.5           1.2  \n",
       "1        10.5         958.0  \n",
       "2        16.9           2.8  \n",
       "3         9.2           1.4  \n",
       "4         5.1           3.6  "
      ]
     },
     "execution_count": 6,
     "metadata": {},
     "output_type": "execute_result"
    }
   ],
   "source": [
    "df.head()"
   ]
  },
  {
   "cell_type": "code",
   "execution_count": 7,
   "metadata": {},
   "outputs": [
    {
     "data": {
      "text/plain": [
       "rank              int64\n",
       "brand            object\n",
       "cat_1            object\n",
       "cat_2            object\n",
       "followers       float64\n",
       "er              float64\n",
       "posts_on_#      float64\n",
       "media_posted    float64\n",
       "dtype: object"
      ]
     },
     "execution_count": 7,
     "metadata": {},
     "output_type": "execute_result"
    }
   ],
   "source": [
    "#Checking the integrity of the data types\n",
    "df.dtypes"
   ]
  },
  {
   "cell_type": "code",
   "execution_count": 8,
   "metadata": {},
   "outputs": [
    {
     "data": {
      "image/png": "[encoded data removed]",
      "text/plain": [
       "<Figure size 1800x720 with 2 Axes>"
      ]
     },
     "metadata": {},
     "output_type": "display_data"
    }
   ],
   "source": [
    "#Visualize missing values\n",
    "msng.matrix(df);"
   ]
  },
  {
   "cell_type": "code",
   "execution_count": 9,
   "metadata": {},
   "outputs": [
    {
     "name": "stderr",
     "output_type": "stream",
     "text": [
      "/anaconda3/lib/python3.6/site-packages/ipykernel_launcher.py:4: SettingWithCopyWarning: \n",
      "A value is trying to be set on a copy of a slice from a DataFrame\n",
      "\n",
      "See the caveats in the documentation: http://pandas.pydata.org/pandas-docs/stable/user_guide/indexing.html#returning-a-view-versus-a-copy\n",
      "  after removing the cwd from sys.path.\n"
     ]
    }
   ],
   "source": [
    "#Filling NaNs using the relationship between the categories\n",
    "for i,TF in enumerate(df['cat_2'].isnull()):\n",
    "    if TF==True:\n",
    "        df['cat_2'][i]=df['cat_1'][i]"
   ]
  },
  {
   "cell_type": "markdown",
   "metadata": {},
   "source": [
    "## EDA"
   ]
  },
  {
   "cell_type": "markdown",
   "metadata": {},
   "source": [
    "A quick look at engagement confirms people's speculation that this metric drops as followers or posts on a hashtag increase. This is indicated by the correlations map below. "
   ]
  },
  {
   "cell_type": "code",
   "execution_count": 10,
   "metadata": {},
   "outputs": [
    {
     "data": {
      "image/png": "[encoded data removed]",
      "text/plain": [
       "<Figure size 144x360 with 2 Axes>"
      ]
     },
     "metadata": {},
     "output_type": "display_data"
    }
   ],
   "source": [
    "plt.figure(figsize=(2, 5))\n",
    "sns.heatmap(df.corr()[['er']].sort_values('er', ascending=False),\n",
    "            annot=True,\n",
    "            cmap = 'RdBu');"
   ]
  },
  {
   "cell_type": "markdown",
   "metadata": {},
   "source": [
    "Next, we look at how the top 100 accounts on Instagram do across a few metrics."
   ]
  },
  {
   "cell_type": "code",
   "execution_count": 11,
   "metadata": {},
   "outputs": [
    {
     "data": {
      "image/png": "[encoded data removed]",
      "text/plain": [
       "<Figure size 1080x360 with 5 Axes>"
      ]
     },
     "metadata": {},
     "output_type": "display_data"
    }
   ],
   "source": [
    "df.plot(kind='box', figsize=(15,5), subplots=True, fontsize=10);\n",
    "plt.tight_layout();"
   ]
  },
  {
   "cell_type": "markdown",
   "metadata": {},
   "source": [
    "Our metrics are heavily skewed, so we'll focus on the medians to explore our categories. First, let's look at what they are and how much data is in each."
   ]
  },
  {
   "cell_type": "code",
   "execution_count": 12,
   "metadata": {},
   "outputs": [
    {
     "data": {
      "text/plain": [
       "celebrities      75\n",
       "fashion          13\n",
       "sport             4\n",
       "media             3\n",
       "beauty            2\n",
       "entertainment     1\n",
       "other             1\n",
       "beverages         1\n",
       "Name: cat_1, dtype: int64"
      ]
     },
     "execution_count": 12,
     "metadata": {},
     "output_type": "execute_result"
    }
   ],
   "source": [
    "df['cat_1'].value_counts()"
   ]
  },
  {
   "cell_type": "code",
   "execution_count": 13,
   "metadata": {},
   "outputs": [
    {
     "data": {
      "image/png": "[encoded data removed]",
      "text/plain": [
       "<Figure size 720x360 with 1 Axes>"
      ]
     },
     "metadata": {},
     "output_type": "display_data"
    }
   ],
   "source": [
    "ax=df['cat_1'].value_counts().plot(figsize=(10,5))\n",
    "ax.set_xlabel(\"Categories\",fontsize=12)\n",
    "ax.set_ylabel(\"Count\",fontsize=12)\n",
    "plt.show()\n"
   ]
  },
  {
   "cell_type": "markdown",
   "metadata": {},
   "source": [
    "We can see most of the data is in the \"celebrities\" category, followed by \"fashion\", assuring faces are predominant on Instagram. Furthermore, there is little presence of sources such as news, politics or science.\n",
    "\n",
    "We can also see the subcategories (cat_2) below."
   ]
  },
  {
   "cell_type": "code",
   "execution_count": 14,
   "metadata": {},
   "outputs": [
    {
     "data": {
      "text/html": [
       "<div>\n",
       "<style scoped>\n",
       "    .dataframe tbody tr th:only-of-type {\n",
       "        vertical-align: middle;\n",
       "    }\n",
       "\n",
       "    .dataframe tbody tr th {\n",
       "        vertical-align: top;\n",
       "    }\n",
       "\n",
       "    .dataframe thead th {\n",
       "        text-align: right;\n",
       "    }\n",
       "</style>\n",
       "<table border=\"1\" class=\"dataframe\">\n",
       "  <thead>\n",
       "    <tr style=\"text-align: right;\">\n",
       "      <th></th>\n",
       "      <th></th>\n",
       "      <th>rank</th>\n",
       "      <th>brand</th>\n",
       "      <th>followers</th>\n",
       "      <th>er</th>\n",
       "      <th>posts_on_#</th>\n",
       "      <th>media_posted</th>\n",
       "    </tr>\n",
       "    <tr>\n",
       "      <th>cat_1</th>\n",
       "      <th>cat_2</th>\n",
       "      <th></th>\n",
       "      <th></th>\n",
       "      <th></th>\n",
       "      <th></th>\n",
       "      <th></th>\n",
       "      <th></th>\n",
       "    </tr>\n",
       "  </thead>\n",
       "  <tbody>\n",
       "    <tr>\n",
       "      <td rowspan=\"2\" valign=\"top\">beauty</td>\n",
       "      <td>beauty</td>\n",
       "      <td>1</td>\n",
       "      <td>1</td>\n",
       "      <td>1</td>\n",
       "      <td>1</td>\n",
       "      <td>1</td>\n",
       "      <td>1</td>\n",
       "    </tr>\n",
       "    <tr>\n",
       "      <td>retail</td>\n",
       "      <td>1</td>\n",
       "      <td>1</td>\n",
       "      <td>1</td>\n",
       "      <td>1</td>\n",
       "      <td>1</td>\n",
       "      <td>1</td>\n",
       "    </tr>\n",
       "    <tr>\n",
       "      <td>beverages</td>\n",
       "      <td>beverages</td>\n",
       "      <td>1</td>\n",
       "      <td>1</td>\n",
       "      <td>1</td>\n",
       "      <td>1</td>\n",
       "      <td>1</td>\n",
       "      <td>1</td>\n",
       "    </tr>\n",
       "    <tr>\n",
       "      <td rowspan=\"9\" valign=\"top\">celebrities</td>\n",
       "      <td>actors</td>\n",
       "      <td>11</td>\n",
       "      <td>11</td>\n",
       "      <td>11</td>\n",
       "      <td>11</td>\n",
       "      <td>11</td>\n",
       "      <td>11</td>\n",
       "    </tr>\n",
       "    <tr>\n",
       "      <td>athletes</td>\n",
       "      <td>18</td>\n",
       "      <td>18</td>\n",
       "      <td>18</td>\n",
       "      <td>18</td>\n",
       "      <td>18</td>\n",
       "      <td>18</td>\n",
       "    </tr>\n",
       "    <tr>\n",
       "      <td>entrepreneurs</td>\n",
       "      <td>1</td>\n",
       "      <td>1</td>\n",
       "      <td>1</td>\n",
       "      <td>1</td>\n",
       "      <td>1</td>\n",
       "      <td>1</td>\n",
       "    </tr>\n",
       "    <tr>\n",
       "      <td>fashion</td>\n",
       "      <td>1</td>\n",
       "      <td>1</td>\n",
       "      <td>1</td>\n",
       "      <td>1</td>\n",
       "      <td>1</td>\n",
       "      <td>1</td>\n",
       "    </tr>\n",
       "    <tr>\n",
       "      <td>media</td>\n",
       "      <td>1</td>\n",
       "      <td>1</td>\n",
       "      <td>1</td>\n",
       "      <td>1</td>\n",
       "      <td>1</td>\n",
       "      <td>1</td>\n",
       "    </tr>\n",
       "    <tr>\n",
       "      <td>models</td>\n",
       "      <td>5</td>\n",
       "      <td>5</td>\n",
       "      <td>5</td>\n",
       "      <td>5</td>\n",
       "      <td>5</td>\n",
       "      <td>5</td>\n",
       "    </tr>\n",
       "    <tr>\n",
       "      <td>musicians</td>\n",
       "      <td>30</td>\n",
       "      <td>30</td>\n",
       "      <td>30</td>\n",
       "      <td>30</td>\n",
       "      <td>30</td>\n",
       "      <td>30</td>\n",
       "    </tr>\n",
       "    <tr>\n",
       "      <td>political</td>\n",
       "      <td>1</td>\n",
       "      <td>1</td>\n",
       "      <td>1</td>\n",
       "      <td>1</td>\n",
       "      <td>1</td>\n",
       "      <td>1</td>\n",
       "    </tr>\n",
       "    <tr>\n",
       "      <td>tv</td>\n",
       "      <td>7</td>\n",
       "      <td>7</td>\n",
       "      <td>7</td>\n",
       "      <td>7</td>\n",
       "      <td>7</td>\n",
       "      <td>7</td>\n",
       "    </tr>\n",
       "    <tr>\n",
       "      <td>entertainment</td>\n",
       "      <td>entertainment</td>\n",
       "      <td>1</td>\n",
       "      <td>1</td>\n",
       "      <td>1</td>\n",
       "      <td>1</td>\n",
       "      <td>1</td>\n",
       "      <td>1</td>\n",
       "    </tr>\n",
       "    <tr>\n",
       "      <td rowspan=\"4\" valign=\"top\">fashion</td>\n",
       "      <td>fashion</td>\n",
       "      <td>2</td>\n",
       "      <td>2</td>\n",
       "      <td>2</td>\n",
       "      <td>2</td>\n",
       "      <td>2</td>\n",
       "      <td>2</td>\n",
       "    </tr>\n",
       "    <tr>\n",
       "      <td>luxury</td>\n",
       "      <td>5</td>\n",
       "      <td>5</td>\n",
       "      <td>5</td>\n",
       "      <td>5</td>\n",
       "      <td>5</td>\n",
       "      <td>5</td>\n",
       "    </tr>\n",
       "    <tr>\n",
       "      <td>retail</td>\n",
       "      <td>2</td>\n",
       "      <td>2</td>\n",
       "      <td>2</td>\n",
       "      <td>2</td>\n",
       "      <td>2</td>\n",
       "      <td>2</td>\n",
       "    </tr>\n",
       "    <tr>\n",
       "      <td>sport</td>\n",
       "      <td>4</td>\n",
       "      <td>4</td>\n",
       "      <td>4</td>\n",
       "      <td>4</td>\n",
       "      <td>4</td>\n",
       "      <td>4</td>\n",
       "    </tr>\n",
       "    <tr>\n",
       "      <td>media</td>\n",
       "      <td>media</td>\n",
       "      <td>3</td>\n",
       "      <td>3</td>\n",
       "      <td>3</td>\n",
       "      <td>3</td>\n",
       "      <td>3</td>\n",
       "      <td>3</td>\n",
       "    </tr>\n",
       "    <tr>\n",
       "      <td>other</td>\n",
       "      <td>other</td>\n",
       "      <td>1</td>\n",
       "      <td>1</td>\n",
       "      <td>1</td>\n",
       "      <td>1</td>\n",
       "      <td>1</td>\n",
       "      <td>1</td>\n",
       "    </tr>\n",
       "    <tr>\n",
       "      <td rowspan=\"2\" valign=\"top\">sport</td>\n",
       "      <td>basketball</td>\n",
       "      <td>1</td>\n",
       "      <td>1</td>\n",
       "      <td>1</td>\n",
       "      <td>1</td>\n",
       "      <td>1</td>\n",
       "      <td>1</td>\n",
       "    </tr>\n",
       "    <tr>\n",
       "      <td>football</td>\n",
       "      <td>3</td>\n",
       "      <td>3</td>\n",
       "      <td>3</td>\n",
       "      <td>3</td>\n",
       "      <td>3</td>\n",
       "      <td>3</td>\n",
       "    </tr>\n",
       "  </tbody>\n",
       "</table>\n",
       "</div>"
      ],
      "text/plain": [
       "                             rank  brand  followers  er  posts_on_#  \\\n",
       "cat_1         cat_2                                                   \n",
       "beauty        beauty            1      1          1   1           1   \n",
       "              retail            1      1          1   1           1   \n",
       "beverages     beverages         1      1          1   1           1   \n",
       "celebrities   actors           11     11         11  11          11   \n",
       "              athletes         18     18         18  18          18   \n",
       "              entrepreneurs     1      1          1   1           1   \n",
       "              fashion           1      1          1   1           1   \n",
       "              media             1      1          1   1           1   \n",
       "              models            5      5          5   5           5   \n",
       "              musicians        30     30         30  30          30   \n",
       "              political         1      1          1   1           1   \n",
       "              tv                7      7          7   7           7   \n",
       "entertainment entertainment     1      1          1   1           1   \n",
       "fashion       fashion           2      2          2   2           2   \n",
       "              luxury            5      5          5   5           5   \n",
       "              retail            2      2          2   2           2   \n",
       "              sport             4      4          4   4           4   \n",
       "media         media             3      3          3   3           3   \n",
       "other         other             1      1          1   1           1   \n",
       "sport         basketball        1      1          1   1           1   \n",
       "              football          3      3          3   3           3   \n",
       "\n",
       "                             media_posted  \n",
       "cat_1         cat_2                        \n",
       "beauty        beauty                    1  \n",
       "              retail                    1  \n",
       "beverages     beverages                 1  \n",
       "celebrities   actors                   11  \n",
       "              athletes                 18  \n",
       "              entrepreneurs             1  \n",
       "              fashion                   1  \n",
       "              media                     1  \n",
       "              models                    5  \n",
       "              musicians                30  \n",
       "              political                 1  \n",
       "              tv                        7  \n",
       "entertainment entertainment             1  \n",
       "fashion       fashion                   2  \n",
       "              luxury                    5  \n",
       "              retail                    2  \n",
       "              sport                     4  \n",
       "media         media                     3  \n",
       "other         other                     1  \n",
       "sport         basketball                1  \n",
       "              football                  3  "
      ]
     },
     "execution_count": 14,
     "metadata": {},
     "output_type": "execute_result"
    }
   ],
   "source": [
    "df.groupby(['cat_1','cat_2']).count()"
   ]
  },
  {
   "cell_type": "markdown",
   "metadata": {},
   "source": [
    "This tells us that most celebrities are musicians or athletes. Since sports is also a part of fashion, the amount of sports-related content is higher than it originally appears to be."
   ]
  },
  {
   "cell_type": "code",
   "execution_count": 15,
   "metadata": {},
   "outputs": [
    {
     "data": {
      "text/html": [
       "<div>\n",
       "<style scoped>\n",
       "    .dataframe tbody tr th:only-of-type {\n",
       "        vertical-align: middle;\n",
       "    }\n",
       "\n",
       "    .dataframe tbody tr th {\n",
       "        vertical-align: top;\n",
       "    }\n",
       "\n",
       "    .dataframe thead th {\n",
       "        text-align: right;\n",
       "    }\n",
       "</style>\n",
       "<table border=\"1\" class=\"dataframe\">\n",
       "  <thead>\n",
       "    <tr style=\"text-align: right;\">\n",
       "      <th></th>\n",
       "      <th>rank</th>\n",
       "      <th>followers</th>\n",
       "      <th>er</th>\n",
       "      <th>posts_on_#</th>\n",
       "      <th>media_posted</th>\n",
       "    </tr>\n",
       "    <tr>\n",
       "      <th>cat_1</th>\n",
       "      <th></th>\n",
       "      <th></th>\n",
       "      <th></th>\n",
       "      <th></th>\n",
       "      <th></th>\n",
       "    </tr>\n",
       "  </thead>\n",
       "  <tbody>\n",
       "    <tr>\n",
       "      <td>entertainment</td>\n",
       "      <td>31</td>\n",
       "      <td>35.00</td>\n",
       "      <td>2.420</td>\n",
       "      <td>1.50</td>\n",
       "      <td>11.4</td>\n",
       "    </tr>\n",
       "    <tr>\n",
       "      <td>sport</td>\n",
       "      <td>36</td>\n",
       "      <td>30.95</td>\n",
       "      <td>1.900</td>\n",
       "      <td>7.65</td>\n",
       "      <td>7.2</td>\n",
       "    </tr>\n",
       "    <tr>\n",
       "      <td>celebrities</td>\n",
       "      <td>45</td>\n",
       "      <td>20.40</td>\n",
       "      <td>1.780</td>\n",
       "      <td>51.20</td>\n",
       "      <td>3.7</td>\n",
       "    </tr>\n",
       "    <tr>\n",
       "      <td>other</td>\n",
       "      <td>51</td>\n",
       "      <td>18.20</td>\n",
       "      <td>2.950</td>\n",
       "      <td>1.40</td>\n",
       "      <td>1.8</td>\n",
       "    </tr>\n",
       "    <tr>\n",
       "      <td>fashion</td>\n",
       "      <td>65</td>\n",
       "      <td>15.20</td>\n",
       "      <td>1.000</td>\n",
       "      <td>24.30</td>\n",
       "      <td>3.0</td>\n",
       "    </tr>\n",
       "    <tr>\n",
       "      <td>media</td>\n",
       "      <td>72</td>\n",
       "      <td>14.30</td>\n",
       "      <td>1.140</td>\n",
       "      <td>5.30</td>\n",
       "      <td>5.9</td>\n",
       "    </tr>\n",
       "    <tr>\n",
       "      <td>beauty</td>\n",
       "      <td>85</td>\n",
       "      <td>12.65</td>\n",
       "      <td>0.875</td>\n",
       "      <td>7.65</td>\n",
       "      <td>6.1</td>\n",
       "    </tr>\n",
       "    <tr>\n",
       "      <td>beverages</td>\n",
       "      <td>87</td>\n",
       "      <td>12.60</td>\n",
       "      <td>3.190</td>\n",
       "      <td>25.90</td>\n",
       "      <td>1.3</td>\n",
       "    </tr>\n",
       "  </tbody>\n",
       "</table>\n",
       "</div>"
      ],
      "text/plain": [
       "               rank  followers     er  posts_on_#  media_posted\n",
       "cat_1                                                          \n",
       "entertainment    31      35.00  2.420        1.50          11.4\n",
       "sport            36      30.95  1.900        7.65           7.2\n",
       "celebrities      45      20.40  1.780       51.20           3.7\n",
       "other            51      18.20  2.950        1.40           1.8\n",
       "fashion          65      15.20  1.000       24.30           3.0\n",
       "media            72      14.30  1.140        5.30           5.9\n",
       "beauty           85      12.65  0.875        7.65           6.1\n",
       "beverages        87      12.60  3.190       25.90           1.3"
      ]
     },
     "execution_count": 15,
     "metadata": {},
     "output_type": "execute_result"
    }
   ],
   "source": [
    "#Getting the median for each main category\n",
    "medians=df.groupby('cat_1').median().sort_values('followers', ascending=False)\n",
    "medians"
   ]
  },
  {
   "cell_type": "code",
   "execution_count": 16,
   "metadata": {},
   "outputs": [
    {
     "data": {
      "image/png": "[encoded data removed]",
      "text/plain": [
       "<Figure size 432x432 with 1 Axes>"
      ]
     },
     "metadata": {},
     "output_type": "display_data"
    }
   ],
   "source": [
    "#Median ER and Followers Graph\n",
    "\n",
    "#style\n",
    "sns.set(style=\"whitegrid\")\n",
    "\n",
    "# Initialize the matplotlib figure\n",
    "f, ax = plt.subplots(figsize=(6, 6))\n",
    "\n",
    "\n",
    "# Plot the maxs\n",
    "sns.set_color_codes(\"muted\")\n",
    "sns.barplot(x=\"followers\", y=medians.index, data=medians,\n",
    "            label=\"Followers in Millions\", color=\"b\")\n",
    "\n",
    "# Plot the medians\n",
    "sns.set_color_codes(\"pastel\")\n",
    "sns.barplot(x=\"er\", y=medians.index, data=medians,\n",
    "            label=\"ER in Thousands\", color=\"r\",alpha=0.8)\n",
    "\n",
    "# Plot the medians\n",
    "sns.set_color_codes(\"pastel\")\n",
    "sns.barplot(x=\"media_posted\", y=medians.index, data=medians,\n",
    "            label=\"Media Posted\", color=\"w\",alpha=0.8)\n",
    "\n",
    "# Add a legend and informative axis label\n",
    "ax.legend(ncol=2, loc=\"lower right\", frameon=True)\n",
    "ax.set(xlim=(0, 24), ylabel=\"Categories\",\n",
    "       xlabel=\"Median\")\n",
    "sns.despine(left=True, bottom=True)"
   ]
  },
  {
   "cell_type": "markdown",
   "metadata": {},
   "source": [
    "We can see the median amount of followers for any of these categories is in the millions, however, the amount of posts is much smaller (thousands). \n",
    "\n",
    "Although there are more popular celebrity accounts than entertainment or sports accounts on Instagram, the Median amount of followers is significantly higher for the later. This is more important for sports, since there is really only one \"entertainer\" in this dataset. Furthermore, as we confirmed on our heatmap, a greater number of followers does not necessarily mean more engagement. Finally, while \"beverage\" and \"other\" accounts have high engagement rates they make relatively few posts.\n",
    "\n",
    "Overall, our findings inform us that a lot of the edited faces people encounter on Instagram may be enhanced to look natural because they're related to sports while also pertaining to beauty and fashion."
   ]
  }
 ],
 "metadata": {
  "kernelspec": {
   "display_name": "Python 3",
   "language": "python",
   "name": "python3"
  },
  "language_info": {
   "codemirror_mode": {
    "name": "ipython",
    "version": 3
   },
   "file_extension": ".py",
   "mimetype": "text/x-python",
   "name": "python",
   "nbconvert_exporter": "python",
   "pygments_lexer": "ipython3",
   "version": "3.6.5"
  },
  "toc": {
   "base_numbering": 1,
   "nav_menu": {},
   "number_sections": true,
   "sideBar": true,
   "skip_h1_title": false,
   "title_cell": "Table of Contents",
   "title_sidebar": "Contents",
   "toc_cell": false,
   "toc_position": {},
   "toc_section_display": true,
   "toc_window_display": false
  }
 },
 "nbformat": 4,
 "nbformat_minor": 2
}
